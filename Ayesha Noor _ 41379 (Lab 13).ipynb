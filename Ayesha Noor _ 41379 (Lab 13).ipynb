{
 "cells": [
  {
   "cell_type": "code",
   "execution_count": 11,
   "id": "071a2929",
   "metadata": {},
   "outputs": [
    {
     "name": "stdout",
     "output_type": "stream",
     "text": [
      "Accuracy: 0.8780487804878049\n"
     ]
    }
   ],
   "source": [
    "#Task: 1\n",
    "# HEART DISEASE _ DATASET\n",
    "import pandas as pd\n",
    "from sklearn.model_selection import train_test_split\n",
    "from sklearn.naive_bayes import GaussianNB\n",
    "from sklearn.metrics import accuracy_score\n",
    "\n",
    "# Load the dataset using read_csv\n",
    "Heart_data = pd.read_csv('heart.csv')\n",
    "\n",
    "# One-hot encode categorical variables\n",
    "# Column names should be passed as strings\n",
    "Heart_data = pd.get_dummies(Heart_data, columns=[\n",
    "    'age', 'sex', 'cp', 'trestbps', 'chol', 'fbs', 'restecg', 'thalach', 'exang',\n",
    "    'oldpeak', 'slope', 'ca', 'thal'\n",
    "])\n",
    "\n",
    "# Assuming the dataset has features (X) and labels (y)\n",
    "# Make sure 'play' is the actual target column in your dataset. If it's 'target', change it to match the correct column name.\n",
    "X = Heart_data.drop('target', axis=1)  # Features variables for column\n",
    "y = Heart_data['target']  # Labels (target variable)\n",
    "\n",
    "# Split the data into training and testing sets\n",
    "X_train, X_test, y_train, y_test = train_test_split(X, y, test_size=0.2, random_state=42)\n",
    "\n",
    "# Initialize Naive Bayes classifier\n",
    "nb_classifier = GaussianNB()\n",
    "\n",
    "# Train the classifier\n",
    "nb_classifier.fit(X_train, y_train)\n",
    "\n",
    "# Predict on the test set\n",
    "y_pred = nb_classifier.predict(X_test)\n",
    "\n",
    "# Calculate accuracy\n",
    "accuracy = accuracy_score(y_test, y_pred)\n",
    "print(\"Accuracy:\", accuracy)\n"
   ]
  },
  {
   "cell_type": "code",
   "execution_count": 16,
   "id": "b20ec059",
   "metadata": {},
   "outputs": [
    {
     "name": "stdout",
     "output_type": "stream",
     "text": [
      "Accuracy: 0.3821587594042684\n"
     ]
    }
   ],
   "source": [
    "#TASK # 02\n",
    "# IRIS _ DATASET\n",
    "# Importing necessary libraries\n",
    "import pandas as pd\n",
    "from sklearn.model_selection import train_test_split\n",
    "from sklearn.naive_bayes import GaussianNB\n",
    "from sklearn.metrics import accuracy_score\n",
    "\n",
    "# Load the dataset using read_csv\n",
    "Iris_data = pd.read_csv('Iris Dataset - Public Livelihood Data.csv')\n",
    "\n",
    "# One-hot encode categorical variables\n",
    "Iris_data = pd.get_dummies(Iris_data, columns=['Designation',\t'Education', 'Marital Status', 'Field', 'Race','Gender', 'Country'])\n",
    "\n",
    "# Assuming the dataset has features (X) and labels (y)\n",
    "X = Iris_data.drop('Salary', axis=1)  # Features variables for column\n",
    "y = Iris_data['Salary']  # Labels\n",
    "\n",
    "# Split the data into training and testing sets\n",
    "X_train, X_test, y_train, y_test = train_test_split(X, y, test_size=0.2, random_state=42)\n",
    "\n",
    "# Initialize Naive Bayes classifier\n",
    "nb_classifier = GaussianNB()\n",
    "\n",
    "# Train the classifier\n",
    "nb_classifier.fit(X_train, y_train)\n",
    "\n",
    "# Predict on the test set\n",
    "y_pred = nb_classifier.predict(X_test)\n",
    "\n",
    "# Calculate accuracy\n",
    "accuracy = accuracy_score(y_test, y_pred)\n",
    "print(\"Accuracy:\", accuracy)"
   ]
  },
  {
   "cell_type": "code",
   "execution_count": null,
   "id": "a128d86d",
   "metadata": {},
   "outputs": [],
   "source": []
  }
 ],
 "metadata": {
  "kernelspec": {
   "display_name": "Python 3 (ipykernel)",
   "language": "python",
   "name": "python3"
  },
  "language_info": {
   "codemirror_mode": {
    "name": "ipython",
    "version": 3
   },
   "file_extension": ".py",
   "mimetype": "text/x-python",
   "name": "python",
   "nbconvert_exporter": "python",
   "pygments_lexer": "ipython3",
   "version": "3.11.5"
  }
 },
 "nbformat": 4,
 "nbformat_minor": 5
}
