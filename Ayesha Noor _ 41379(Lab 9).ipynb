{
 "cells": [
  {
   "cell_type": "code",
   "execution_count": 1,
   "id": "0c1baff3",
   "metadata": {},
   "outputs": [
    {
     "name": "stdout",
     "output_type": "stream",
     "text": [
      "Shortest path from 'A' to 'G': A -> H -> E -> G\n"
     ]
    },
    {
     "data": {
      "text/plain": [
       "['A', 'H', 'E', 'G']"
      ]
     },
     "execution_count": 1,
     "metadata": {},
     "output_type": "execute_result"
    }
   ],
   "source": [
    "#Task 1\n",
    "from collections import deque\n",
    "# Define the graph\n",
    "graph = {\n",
    "    \"A\": [\"B\", \"C\", \"H\"],\n",
    "    \"B\": [\"A\"],\n",
    "    \"C\": [\"A\", \"D\"],\n",
    "    \"D\": [\"C\", \"E\", \"F\"],\n",
    "    \"E\": [\"D\", \"G\", \"H\"],\n",
    "    \"F\": [\"D\", \"G\"],\n",
    "    \"G\": [\"E\", \"F\"],\n",
    "    \"H\": [\"A\", \"E\"]\n",
    "}\n",
    "# BFS function to find the shortest path\n",
    "def bfs_shortest_path(graph, start_node, goal):\n",
    "    # Initialize the visited set and queue for BFS\n",
    "    visited = set()\n",
    "    queue = deque([[start_node]])  # Queue holds paths, initialized with the start node's path\n",
    "    \n",
    "    while queue:\n",
    "        path = queue.popleft()  # Get the first path from the queue\n",
    "        current_node = path[-1]  # Get the last node in the path\n",
    "\n",
    "        if current_node == goal:\n",
    "            print(f\"Shortest path from '{start_node}' to '{goal}': {' -> '.join(path)}\")\n",
    "            return path  # Return the shortest path if the goal is reached\n",
    "\n",
    "        if current_node not in visited:\n",
    "            visited.add(current_node)  # Mark the node as visited\n",
    "            \n",
    "            # Add each unvisited neighbor to the path\n",
    "            for neighbor in graph[current_node]:\n",
    "                new_path = list(path)  # Create a new path with the neighbor added\n",
    "                new_path.append(neighbor)\n",
    "                queue.append(new_path)  # Add the new path to the queue\n",
    "\n",
    "    # If the goal is not reachable\n",
    "    print(f\"Goal '{goal}' not reachable from '{start_node}'.\")\n",
    "    return None\n",
    "\n",
    "# Example usage\n",
    "start_node = \"A\"\n",
    "goal_node = \"G\"\n",
    "bfs_shortest_path(graph, start_node, goal_node)"
   ]
  },
  {
   "cell_type": "code",
   "execution_count": 2,
   "id": "948fc661",
   "metadata": {},
   "outputs": [
    {
     "name": "stdout",
     "output_type": "stream",
     "text": [
      "Depth-First Search traversal:\n",
      "A\n",
      "B\n",
      "C\n",
      "D\n",
      "E\n",
      "G\n",
      "F\n",
      "H\n"
     ]
    }
   ],
   "source": [
    "#Task 2\n",
    "# Define the graph\n",
    "graph = {\n",
    "    \"A\": [\"B\", \"C\", \"H\"],\n",
    "    \"B\": [\"A\"],\n",
    "    \"C\": [\"A\", \"D\"],\n",
    "    \"D\": [\"C\", \"E\", \"F\"],\n",
    "    \"E\": [\"D\", \"G\", \"H\"],\n",
    "    \"F\": [\"D\", \"G\"],\n",
    "    \"G\": [\"E\", \"F\"],\n",
    "    \"H\": [\"A\", \"E\"]\n",
    "}\n",
    "\n",
    "# DFS function using recursion\n",
    "def dfs(graph, start_node, visited=None):\n",
    "    if visited is None:\n",
    "        visited = set()  # Initialize visited set on the first call\n",
    "\n",
    "    visited.add(start_node)  # Mark the current node as visited\n",
    "    print(start_node)  # Process the current node (e.g., print it)\n",
    "\n",
    "    for neighbor in graph[start_node]:  # Explore each neighbor\n",
    "        if neighbor not in visited:  # If the neighbor hasn't been visited\n",
    "            dfs(graph, neighbor, visited)  # Recursive call for DFS\n",
    "\n",
    "# Example usage\n",
    "start_node = \"A\"\n",
    "print(\"Depth-First Search traversal:\")\n",
    "dfs(graph, start_node)"
   ]
  },
  {
   "cell_type": "code",
   "execution_count": 3,
   "id": "6626dd79",
   "metadata": {},
   "outputs": [
    {
     "name": "stdout",
     "output_type": "stream",
     "text": [
      "Solution found!\n",
      "[[1, 2, 3], [4, 5, 6], [7, 0, 8]]\n",
      "[[1, 2, 3], [4, 5, 6], [7, 8, 0]]\n"
     ]
    },
    {
     "data": {
      "text/plain": [
       "[[[1, 2, 3], [4, 5, 6], [7, 0, 8]], [[1, 2, 3], [4, 5, 6], [7, 8, 0]]]"
      ]
     },
     "execution_count": 3,
     "metadata": {},
     "output_type": "execute_result"
    }
   ],
   "source": [
    "#Task 3\n",
    "from collections import deque\n",
    "\n",
    "# Define the goal state\n",
    "goal_state = [[1, 2, 3], [4, 5, 6], [7, 8, 0]]\n",
    "\n",
    "# Utility function to find the position of the blank (0) tile\n",
    "def find_blank(board):\n",
    "    for i in range(3):\n",
    "        for j in range(3):\n",
    "            if board[i][j] == 0:\n",
    "                return i, j  # Return the row and column index of the blank space\n",
    "\n",
    "# Utility function to create a new board by swapping tiles\n",
    "def swap(board, i1, j1, i2, j2):\n",
    "    new_board = [row[:] for row in board]\n",
    "    new_board[i1][j1], new_board[i2][j2] = new_board[i2][j2], new_board[i1][j1]\n",
    "    return new_board\n",
    "\n",
    "# BFS function to solve the 8-puzzle problem\n",
    "def bfs_8_puzzle(start):\n",
    "    # Initialize the queue and visited set\n",
    "    queue = deque([(start, [])])  # Each item is a tuple of (current board, path to this board)\n",
    "    visited = set()\n",
    "    visited.add(tuple(map(tuple, start)))  # Mark the start state as visited\n",
    "\n",
    "    while queue:\n",
    "        current_board, path = queue.popleft()\n",
    "\n",
    "        # If current board matches goal state, we found the solution\n",
    "        if current_board == goal_state:\n",
    "            print(\"Solution found!\")\n",
    "            for step in path:\n",
    "                print(step)\n",
    "            return path\n",
    "\n",
    "        # Find the position of the blank space (0)\n",
    "        i, j = find_blank(current_board)\n",
    "\n",
    "        # Define possible moves (up, down, left, right)\n",
    "        moves = [\n",
    "            (i - 1, j),  # Up\n",
    "            (i + 1, j),  # Down\n",
    "            (i, j - 1),  # Left\n",
    "            (i, j + 1)   # Right\n",
    "        ]\n",
    "\n",
    "        for new_i, new_j in moves:\n",
    "            # Check if new position is within bounds\n",
    "            if 0 <= new_i < 3 and 0 <= new_j < 3:\n",
    "                # Create a new board with the tile moved into the blank space\n",
    "                new_board = swap(current_board, i, j, new_i, new_j)\n",
    "\n",
    "                # Convert the board to a tuple of tuples to be hashable for the visited set\n",
    "                new_board_tuple = tuple(map(tuple, new_board))\n",
    "\n",
    "                # If the new board hasn't been visited, add it to the queue\n",
    "                if new_board_tuple not in visited:\n",
    "                    visited.add(new_board_tuple)\n",
    "                    queue.append((new_board, path + [new_board]))\n",
    "\n",
    "    print(\"No solution found.\")\n",
    "    return None\n",
    "\n",
    "# Example usage\n",
    "start_state = [[1, 2, 3], [4, 0, 6], [7, 5, 8]]  # Example start state\n",
    "\n",
    "bfs_8_puzzle(start_state)"
   ]
  },
  {
   "cell_type": "code",
   "execution_count": 4,
   "id": "0c4c46f9",
   "metadata": {},
   "outputs": [
    {
     "name": "stdout",
     "output_type": "stream",
     "text": [
      "Path from Arad to Bucharest : Arad -> Zerind -> Oradea -> Sibiu -> Fagaras -> Bucharest\n"
     ]
    }
   ],
   "source": [
    "#Task 4\n",
    "# Graph represented as an adjacency list with distances\n",
    "graph = {\n",
    "    \"Arad\": [(\"Zerind\", 75), (\"Sibiu\", 140), (\"Timisoara\", 118)],\n",
    "    \"Zerind\": [(\"Arad\", 75), (\"Oradea\", 71)],\n",
    "    \"Oradea\": [(\"Zerind\", 71), (\"Sibiu\", 151)],\n",
    "    \"Sibiu\": [(\"Arad\", 140), (\"Oradea\", 151), (\"Fagaras\", 99), (\"Rimnicu Vilcea\", 80)],\n",
    "    \"Timisoara\": [(\"Arad\", 118), (\"Lugoj\", 111)],\n",
    "    \"Lugoj\": [(\"Timisoara\", 111), (\"Mehadia\", 70)],\n",
    "    \"Mehadia\": [(\"Lugoj\", 70), (\"Drobeta\", 75)],\n",
    "    \"Drobeta\": [(\"Mehadia\", 75), (\"Craiova\", 120)],\n",
    "    \"Craiova\": [(\"Drobeta\", 120), (\"Rimnicu Vilcea\", 146), (\"Pitesti\", 138)],\n",
    "    \"Rimnicu Vilcea\": [(\"Sibiu\", 80), (\"Craiova\", 146), (\"Pitesti\", 97)],\n",
    "    \"Fagaras\": [(\"Sibiu\", 99), (\"Bucharest\", 211)],\n",
    "    \"Pitesti\": [(\"Rimnicu Vilcea\", 97), (\"Craiova\", 138), (\"Bucharest\", 101)],\n",
    "    \"Bucharest\": [(\"Fagaras\", 211), (\"Pitesti\", 101), (\"Giurgiu\", 90), (\"Urziceni\", 85)],\n",
    "    \"Giurgiu\": [(\"Bucharest\", 90)],\n",
    "    \"Urziceni\": [(\"Bucharest\", 85), (\"Hirsova\", 98), (\"Vaslui\", 142)],\n",
    "    \"Hirsova\": [(\"Urziceni\", 98), (\"Eforie\", 86)],\n",
    "    \"Eforie\": [(\"Hirsova\", 86)],\n",
    "    \"Vaslui\": [(\"Urziceni\", 142), (\"Iasi\", 92)],\n",
    "    \"Iasi\": [(\"Vaslui\", 92), (\"Neamt\", 87)],\n",
    "    \"Neamt\": [(\"Iasi\", 87)]\n",
    "}\n",
    "\n",
    "# Depth-First Search to find a path from start to goal\n",
    "def dfs(graph, start, goal, path=None, visited=None):\n",
    "    if path is None:\n",
    "        path = []  # Initialize path\n",
    "    if visited is None:\n",
    "        visited = set()  # Initialize visited set\n",
    "\n",
    "    path.append(start)  # Add current city to the path\n",
    "    visited.add(start)  # Mark current city as visited\n",
    "\n",
    "    # Check if we reached the goal city\n",
    "    if start == goal:\n",
    "        return path\n",
    "\n",
    "    # Explore neighbors recursively\n",
    "    for neighbor, distance in graph[start]:\n",
    "        if neighbor not in visited:\n",
    "            result = dfs(graph, neighbor, goal, path, visited)\n",
    "            if result is not None:  # If a path to the goal is found, return it\n",
    "                return result\n",
    "\n",
    "    path.pop()  # Remove city from path if it leads to dead end\n",
    "    return None  # Return None if no path is found\n",
    "\n",
    "# Example usage\n",
    "start_city = \"Arad\"\n",
    "goal_city = \"Bucharest\"\n",
    "path = dfs(graph, start_city, goal_city)\n",
    "\n",
    "if path:\n",
    "    print(\"Path from\", start_city, \"to\", goal_city, \":\", \" -> \".join(path))\n",
    "else:\n",
    "    print(f\"No path found from {start_city} to {goal_city}.\")"
   ]
  },
  {
   "cell_type": "code",
   "execution_count": null,
   "id": "a8d27cad",
   "metadata": {},
   "outputs": [],
   "source": []
  }
 ],
 "metadata": {
  "kernelspec": {
   "display_name": "Python 3 (ipykernel)",
   "language": "python",
   "name": "python3"
  },
  "language_info": {
   "codemirror_mode": {
    "name": "ipython",
    "version": 3
   },
   "file_extension": ".py",
   "mimetype": "text/x-python",
   "name": "python",
   "nbconvert_exporter": "python",
   "pygments_lexer": "ipython3",
   "version": "3.11.5"
  }
 },
 "nbformat": 4,
 "nbformat_minor": 5
}
